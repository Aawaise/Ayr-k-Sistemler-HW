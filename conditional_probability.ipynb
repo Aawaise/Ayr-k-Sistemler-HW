{
  "nbformat": 4,
  "nbformat_minor": 0,
  "metadata": {
    "colab": {
      "name": "conditional probability.ipynb",
      "provenance": [],
      "authorship_tag": "ABX9TyM5V8vAU6NT2fkWESjxq0pw",
      "include_colab_link": true
    },
    "kernelspec": {
      "name": "python3",
      "display_name": "Python 3"
    },
    "language_info": {
      "name": "python"
    }
  },
  "cells": [
    {
      "cell_type": "markdown",
      "metadata": {
        "id": "view-in-github",
        "colab_type": "text"
      },
      "source": [
        "<a href=\"https://colab.research.google.com/github/Aawaise/Ayr-k-Sistemler-HW/blob/main/conditional_probability.ipynb\" target=\"_parent\"><img src=\"https://colab.research.google.com/assets/colab-badge.svg\" alt=\"Open In Colab\"/></a>"
      ]
    },
    {
      "cell_type": "markdown",
      "metadata": {
        "id": "JOWcVjSonQU6"
      },
      "source": [
        "Generates a list of 100,000 random people and randomly assign them as being in their 20s, 30s ,40s,50, 60s,70s"
      ]
    },
    {
      "cell_type": "code",
      "metadata": {
        "id": "1LcQRkd-YGCr"
      },
      "source": [
        "from numpy import random\n",
        "random.seed(0)\n",
        "\n",
        "totals={20:0, 30:0, 40:0,50:0, 60:0,70:0}\n",
        "purchases={20:0, 30:0, 40:0,50:0, 60:0,70:0}\n",
        "totalpurchase=0\n",
        "for x in range(100000):\n",
        "    age=random.choice([20,30,40,50,60,70])\n",
        "    purchaseprob=float(age)/100.0\n",
        "    totals[age]+=1\n",
        "    if(random.random()<purchaseprob):\n",
        "      totalpurchase+=1\n",
        "      purchases[age]+=1\n"
      ],
      "execution_count": 31,
      "outputs": []
    },
    {
      "cell_type": "code",
      "metadata": {
        "colab": {
          "base_uri": "https://localhost:8080/"
        },
        "id": "_ar6U30hbclD",
        "outputId": "a47d4abf-4992-4f96-e633-dce180707d15"
      },
      "source": [
        "totals"
      ],
      "execution_count": 19,
      "outputs": [
        {
          "output_type": "execute_result",
          "data": {
            "text/plain": [
              "{20: 16576, 30: 16619, 40: 16632, 50: 16805, 60: 16664, 70: 16704}"
            ]
          },
          "metadata": {
            "tags": []
          },
          "execution_count": 19
        }
      ]
    },
    {
      "cell_type": "code",
      "metadata": {
        "colab": {
          "base_uri": "https://localhost:8080/"
        },
        "id": "dPBay2V9bu7j",
        "outputId": "dec8b9d9-fd57-4abe-bdc4-0f055733ca10"
      },
      "source": [
        "purchases"
      ],
      "execution_count": 20,
      "outputs": [
        {
          "output_type": "execute_result",
          "data": {
            "text/plain": [
              "{20: 3392, 30: 4974, 40: 6670, 50: 8319, 60: 9944, 70: 11713}"
            ]
          },
          "metadata": {
            "tags": []
          },
          "execution_count": 20
        }
      ]
    },
    {
      "cell_type": "code",
      "metadata": {
        "colab": {
          "base_uri": "https://localhost:8080/"
        },
        "id": "4D3ssFYObz_9",
        "outputId": "2f1d7261-0696-436a-9f36-eaefbb45f44e"
      },
      "source": [
        "totalpurchase"
      ],
      "execution_count": 21,
      "outputs": [
        {
          "output_type": "execute_result",
          "data": {
            "text/plain": [
              "45012"
            ]
          },
          "metadata": {
            "tags": []
          },
          "execution_count": 21
        }
      ]
    },
    {
      "cell_type": "markdown",
      "metadata": {
        "id": "aUmoR1QttrUi"
      },
      "source": [
        "lets 1st compute P(E|F), Where E is the purchases and F is the age group.the prob of someone in their 30s buying something is actually the percentage of how many in their 30s bought something."
      ]
    },
    {
      "cell_type": "code",
      "metadata": {
        "colab": {
          "base_uri": "https://localhost:8080/"
        },
        "id": "WsRTHc0DeE1j",
        "outputId": "57a6730b-65e7-4d51-e797-6097463e8752"
      },
      "source": [
        "PEF=float(purchases[30])/float(totals[30])\n",
        "print('P(purchase|30s):' + str(PEF))"
      ],
      "execution_count": 22,
      "outputs": [
        {
          "output_type": "stream",
          "text": [
            "P(purchase|30s):0.29929598652145134\n"
          ],
          "name": "stdout"
        }
      ]
    },
    {
      "cell_type": "markdown",
      "metadata": {
        "id": "BG1opImsuwfX"
      },
      "source": [
        "PF is the probability of being in 30S in the dataset"
      ]
    },
    {
      "cell_type": "code",
      "metadata": {
        "colab": {
          "base_uri": "https://localhost:8080/"
        },
        "id": "TBTNebB2e7-_",
        "outputId": "f7568118-6a72-4cea-f613-25fdea68dae1"
      },
      "source": [
        "PF=float(totals[30])/100000.0\n",
        "print(\"p(30's):\" + str(PF))"
      ],
      "execution_count": 25,
      "outputs": [
        {
          "output_type": "stream",
          "text": [
            "p(30's):0.16619\n"
          ],
          "name": "stdout"
        }
      ]
    },
    {
      "cell_type": "markdown",
      "metadata": {
        "id": "lO6H2MRgvDid"
      },
      "source": [
        "PE is the prob of total purchases regardless of  their age."
      ]
    },
    {
      "cell_type": "code",
      "metadata": {
        "colab": {
          "base_uri": "https://localhost:8080/"
        },
        "id": "gsyqK-llgGBS",
        "outputId": "32136bf7-ad1f-4453-8b9e-1d7a5c213951"
      },
      "source": [
        "PE=float(totalpurchase)/100000.0\n",
        "print(\"p(purchase):\" +str(PE))"
      ],
      "execution_count": 26,
      "outputs": [
        {
          "output_type": "stream",
          "text": [
            "p(purchase):0.45012\n"
          ],
          "name": "stdout"
        }
      ]
    },
    {
      "cell_type": "markdown",
      "metadata": {
        "id": "50rgkFnRvwR9"
      },
      "source": [
        "if E and F were independent ,we would expect p(E|F) and P(E) to be the same.which they are not.so that tells us that basically E and F are not independent but they are actually dependent.\n"
      ]
    },
    {
      "cell_type": "markdown",
      "metadata": {
        "id": "TzYyKJbQw7lL"
      },
      "source": [
        "P(E,F) is different from P(E|F),P(E,F) would be the prob of both being 30s and buying something, out of the total population.not just the population of the people in their 30s."
      ]
    },
    {
      "cell_type": "code",
      "metadata": {
        "colab": {
          "base_uri": "https://localhost:8080/"
        },
        "id": "DV4PQ5-SgyXG",
        "outputId": "e41c7676-6f00-48d1-88c1-95e16a2409ff"
      },
      "source": [
        "print(\"p(30's ,purchases)\" + str(float(purchases[30]/100000.0)))"
      ],
      "execution_count": 28,
      "outputs": [
        {
          "output_type": "stream",
          "text": [
            "p(30's ,purchases)0.04974\n"
          ],
          "name": "stdout"
        }
      ]
    },
    {
      "cell_type": "markdown",
      "metadata": {
        "id": "fpoQUsKTyH2Q"
      },
      "source": [
        "lets also compute the product of P(E) and P(F),"
      ]
    },
    {
      "cell_type": "code",
      "metadata": {
        "colab": {
          "base_uri": "https://localhost:8080/"
        },
        "id": "sdef69xshQeZ",
        "outputId": "13ebae58-1315-489a-c914-0f627cb07206"
      },
      "source": [
        "print(\"p(30's)p(purchase)\" + str(PE*PF))"
      ],
      "execution_count": 30,
      "outputs": [
        {
          "output_type": "stream",
          "text": [
            "p(30's)p(purchase)0.07480544280000001\n"
          ],
          "name": "stdout"
        }
      ]
    },
    {
      "cell_type": "markdown",
      "metadata": {
        "id": "yJSMY4s0yqSK"
      },
      "source": [
        "we have seen above that the P(E,F) is equal to 0.5 but the P(E*F) is equal to 0.75 which means both variables are not independent and there is a conditional probability between them."
      ]
    },
    {
      "cell_type": "code",
      "metadata": {
        "id": "RKTzfgZYhpwz"
      },
      "source": [
        ""
      ],
      "execution_count": null,
      "outputs": []
    }
  ]
}