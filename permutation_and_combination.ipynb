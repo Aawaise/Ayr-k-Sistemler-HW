{
  "nbformat": 4,
  "nbformat_minor": 0,
  "metadata": {
    "colab": {
      "name": "permutation and combination.ipynb",
      "provenance": [],
      "collapsed_sections": [],
      "authorship_tag": "ABX9TyPB0SDjgjMNjx4e/ncwtPJU",
      "include_colab_link": true
    },
    "kernelspec": {
      "name": "python3",
      "display_name": "Python 3"
    },
    "language_info": {
      "name": "python"
    }
  },
  "cells": [
    {
      "cell_type": "markdown",
      "metadata": {
        "id": "view-in-github",
        "colab_type": "text"
      },
      "source": [
        "<a href=\"https://colab.research.google.com/github/Aawaise/Ayr-k-Sistemler-HW/blob/main/permutation_and_combination.ipynb\" target=\"_parent\"><img src=\"https://colab.research.google.com/assets/colab-badge.svg\" alt=\"Open In Colab\"/></a>"
      ]
    },
    {
      "cell_type": "code",
      "metadata": {
        "id": "rn-4o_YsrK-A"
      },
      "source": [
        "from itertools import permutations,combinations\n"
      ],
      "execution_count": 2,
      "outputs": []
    },
    {
      "cell_type": "code",
      "metadata": {
        "id": "0liDMD-XsokA"
      },
      "source": [
        "letters=['a','b','c','a']\n"
      ],
      "execution_count": 3,
      "outputs": []
    },
    {
      "cell_type": "code",
      "metadata": {
        "id": "eKulCbOus-UQ"
      },
      "source": [
        "y=list(permutations(letters))"
      ],
      "execution_count": 4,
      "outputs": []
    },
    {
      "cell_type": "code",
      "metadata": {
        "colab": {
          "base_uri": "https://localhost:8080/"
        },
        "id": "cwZXf2g6tONI",
        "outputId": "09360005-a179-4673-b3d4-40926510bb9f"
      },
      "source": [
        "len(y)"
      ],
      "execution_count": 5,
      "outputs": [
        {
          "output_type": "execute_result",
          "data": {
            "text/plain": [
              "24"
            ]
          },
          "metadata": {
            "tags": []
          },
          "execution_count": 5
        }
      ]
    },
    {
      "cell_type": "code",
      "metadata": {
        "colab": {
          "base_uri": "https://localhost:8080/"
        },
        "id": "Jsmx00ccuByY",
        "outputId": "0c0e462c-cfe2-475b-efee-d4167bac4e4c"
      },
      "source": [
        "print(y)"
      ],
      "execution_count": 6,
      "outputs": [
        {
          "output_type": "stream",
          "text": [
            "[('a', 'b', 'c', 'a'), ('a', 'b', 'a', 'c'), ('a', 'c', 'b', 'a'), ('a', 'c', 'a', 'b'), ('a', 'a', 'b', 'c'), ('a', 'a', 'c', 'b'), ('b', 'a', 'c', 'a'), ('b', 'a', 'a', 'c'), ('b', 'c', 'a', 'a'), ('b', 'c', 'a', 'a'), ('b', 'a', 'a', 'c'), ('b', 'a', 'c', 'a'), ('c', 'a', 'b', 'a'), ('c', 'a', 'a', 'b'), ('c', 'b', 'a', 'a'), ('c', 'b', 'a', 'a'), ('c', 'a', 'a', 'b'), ('c', 'a', 'b', 'a'), ('a', 'a', 'b', 'c'), ('a', 'a', 'c', 'b'), ('a', 'b', 'a', 'c'), ('a', 'b', 'c', 'a'), ('a', 'c', 'a', 'b'), ('a', 'c', 'b', 'a')]\n"
          ],
          "name": "stdout"
        }
      ]
    },
    {
      "cell_type": "code",
      "metadata": {
        "colab": {
          "base_uri": "https://localhost:8080/"
        },
        "id": "REeGfWexuJak",
        "outputId": "8df44cf5-e202-4503-ef56-64d274e37b1c"
      },
      "source": [
        "4*3*2*1"
      ],
      "execution_count": 7,
      "outputs": [
        {
          "output_type": "execute_result",
          "data": {
            "text/plain": [
              "24"
            ]
          },
          "metadata": {
            "tags": []
          },
          "execution_count": 7
        }
      ]
    },
    {
      "cell_type": "code",
      "metadata": {
        "colab": {
          "base_uri": "https://localhost:8080/"
        },
        "id": "ACy-CCEXuXKa",
        "outputId": "2aff2cfd-f8fe-47cc-84c1-e08936dc569c"
      },
      "source": [
        "list(combinations(letters,2))"
      ],
      "execution_count": 9,
      "outputs": [
        {
          "output_type": "execute_result",
          "data": {
            "text/plain": [
              "[('a', 'b'), ('a', 'c'), ('a', 'a'), ('b', 'c'), ('b', 'a'), ('c', 'a')]"
            ]
          },
          "metadata": {
            "tags": []
          },
          "execution_count": 9
        }
      ]
    },
    {
      "cell_type": "code",
      "metadata": {
        "colab": {
          "base_uri": "https://localhost:8080/"
        },
        "id": "MjS525VDuk11",
        "outputId": "721fe509-ede7-4a08-bc57-e81c1d81ed7b"
      },
      "source": [
        "len(list(combinations(letters,2)))"
      ],
      "execution_count": 10,
      "outputs": [
        {
          "output_type": "execute_result",
          "data": {
            "text/plain": [
              "6"
            ]
          },
          "metadata": {
            "tags": []
          },
          "execution_count": 10
        }
      ]
    }
  ]
}